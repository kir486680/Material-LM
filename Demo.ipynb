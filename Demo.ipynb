{
 "cells": [
  {
   "cell_type": "code",
   "execution_count": 1,
   "id": "a2912fe2-e9f0-4206-8222-35232e7c3014",
   "metadata": {},
   "outputs": [],
   "source": [
    "from utils.model import TransformerModel\n",
    "from utils.tokenizer import CustomTokenizer \n",
    "from utils.inference import predict\n",
    "import torch "
   ]
  },
  {
   "cell_type": "code",
   "execution_count": 2,
   "id": "da0a204d-29f7-4d96-b09e-109b99b83961",
   "metadata": {},
   "outputs": [],
   "source": [
    "# Create a model\n",
    "device = torch.device(\"cuda\" if torch.cuda.is_available() else \"cpu\")\n",
    "model = TransformerModel(device)\n",
    "tokenizer = CustomTokenizer(json_file=\"utils/tokenizer_mapping.json\")"
   ]
  },
  {
   "cell_type": "code",
   "execution_count": 3,
   "id": "5181b1c7-2482-46e6-aa03-9bd9da7804e6",
   "metadata": {},
   "outputs": [
    {
     "data": {
      "text/plain": [
       "'Manufacturing is an engineering material for the structure of the materials science and engineering industrial design'"
      ]
     },
     "execution_count": 3,
     "metadata": {},
     "output_type": "execute_result"
    }
   ],
   "source": [
    "predict(model, tokenizer, \"Manufacturing is \", device)"
   ]
  },
  {
   "cell_type": "code",
   "execution_count": null,
   "id": "324d0f6a-a4d7-490f-9ea1-81dfe0247e28",
   "metadata": {},
   "outputs": [],
   "source": []
  }
 ],
 "metadata": {
  "kernelspec": {
   "display_name": "Python 3 (ipykernel)",
   "language": "python",
   "name": "python3"
  },
  "language_info": {
   "codemirror_mode": {
    "name": "ipython",
    "version": 3
   },
   "file_extension": ".py",
   "mimetype": "text/x-python",
   "name": "python",
   "nbconvert_exporter": "python",
   "pygments_lexer": "ipython3",
   "version": "3.11.3"
  }
 },
 "nbformat": 4,
 "nbformat_minor": 5
}
